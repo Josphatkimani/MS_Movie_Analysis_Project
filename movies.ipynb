{
 "cells": [
  {
   "cell_type": "markdown",
   "metadata": {},
   "source": [
    "## Final Project Submission\n",
    "\n",
    "Please fill out:\n",
    "* Student name: Josphat Kimani\n",
    "* Student pace: full time\n",
    "* Scheduled project review date/time: 10th December 2023\n",
    "* Instructor name: Mark Tiba \n",
    "* Blog post URL:\n"
   ]
  },
  {
   "cell_type": "code",
   "execution_count": 25,
   "metadata": {},
   "outputs": [
    {
     "data": {
      "text/html": [
       "<div style=\"display: flex; justify-content: center;\"><img src=\"Background image.jpg\" style=\"width:40%;\"></div>"
      ],
      "text/plain": [
       "<IPython.core.display.HTML object>"
      ]
     },
     "metadata": {},
     "output_type": "display_data"
    }
   ],
   "source": [
    "from IPython.display import display, HTML\n",
    "\n",
    "img_path = \"Background image.jpg\"  # Replace with the path to your image file\n",
    "\n",
    "# Set the desired percentage (e.g., 50%)\n",
    "percentage = 40\n",
    "\n",
    "# Create HTML code to display the image with width and center alignment\n",
    "html_code = f'<div style=\"display: flex; justify-content: center;\"><img src=\"{img_path}\" style=\"width:{percentage}%;\"></div>'\n",
    "\n",
    "# Display the HTML code\n",
    "display(HTML(html_code))\n"
   ]
  },
  {
   "cell_type": "markdown",
   "metadata": {},
   "source": [
    "# Overview\n",
    "\n",
    "<span style=\"font-size: 16pt;\">Microsoft, recognizing the burgeoning landscape of original video content creation, embarks on an ambitious venture to establish its movie studio. Despite a lack of filmmaking expertise, Microsoft aims to capitalize on this lucrative market by leveraging data-driven insights. The objective is to inform strategic decisions on film content creation, ultimately positioning Microsoft as a key player in the dynamic and competitive film industry.</span>\n"
   ]
  },
  {
   "cell_type": "markdown",
   "metadata": {},
   "source": [
    "# Business Understanding\n",
    "<span style=\"font-size: 16pt;\">The real-world problem confronting Microsoft is the lack of expertise in the movie industry, despite the desire to enter the realm of original video content creation. The challenge is to understand the current landscape of successful films at the box office. Microsoft, as the primary stakeholder, is venturing into an unfamiliar industry and seeks to identify the types of films that resonate with audiences and lead to box office success.\n",
    "\n",
    "The questions being answered are:\n",
    "\n",
    "1.How can Microsoft strategically position its movie studio by aligning content with currently successful film genres dominating the box office?\n",
    "\n",
    "2.How can Microsoft tailor its movie content to maximize audience engagement by understanding variations in audience preferences across demographics and regions?\n",
    "\n",
    "3,How can Microsoft establish a unique and competitive position within the film industry by differentiating itself based on successful strategies employed by other movie studios and identifying untapped opportunities?\n",
    "</span>\n"
   ]
  }
 ],
 "metadata": {
  "kernelspec": {
   "display_name": "Python 3",
   "language": "python",
   "name": "python3"
  },
  "language_info": {
   "codemirror_mode": {
    "name": "ipython",
    "version": 3
   },
   "file_extension": ".py",
   "mimetype": "text/x-python",
   "name": "python",
   "nbconvert_exporter": "python",
   "pygments_lexer": "ipython3",
   "version": "3.10.13"
  }
 },
 "nbformat": 4,
 "nbformat_minor": 2
}
